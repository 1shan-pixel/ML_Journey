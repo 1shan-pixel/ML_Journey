{
 "cells": [
  {
   "cell_type": "code",
   "execution_count": 6,
   "metadata": {},
   "outputs": [
    {
     "name": "stdout",
     "output_type": "stream",
     "text": [
      "0.4649301596754842\n"
     ]
    }
   ],
   "source": [
    "# for a simple function y = x^2  , we shall write for its gradient descent, here we simply find out its derivative. \n",
    "# but in the case of multiple input functions, we shall use the partial derivative of the function. \n",
    "\n",
    "def gradient_descent(iterations, learning_rate, initial ) ->float:\n",
    "    for i in range(iterations):\n",
    "        derivative = 2 ** initial\n",
    "        initial = initial - learning_rate * derivative\n",
    "    return initial \n",
    "\n",
    "gradient = gradient_descent(10000, 0.0001, 5)\n",
    "print(gradient)"
   ]
  }
 ],
 "metadata": {
  "kernelspec": {
   "display_name": "Python 3",
   "language": "python",
   "name": "python3"
  },
  "language_info": {
   "codemirror_mode": {
    "name": "ipython",
    "version": 3
   },
   "file_extension": ".py",
   "mimetype": "text/x-python",
   "name": "python",
   "nbconvert_exporter": "python",
   "pygments_lexer": "ipython3",
   "version": "3.10.12"
  }
 },
 "nbformat": 4,
 "nbformat_minor": 2
}
