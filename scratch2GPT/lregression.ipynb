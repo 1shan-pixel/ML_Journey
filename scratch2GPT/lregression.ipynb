{
 "cells": [
  {
   "cell_type": "code",
   "execution_count": null,
   "metadata": {},
   "outputs": [],
   "source": [
    "import numpy as np\n",
    "from numpy.typing import NDArray\n",
    "\n",
    "\n",
    "class Solution:\n",
    "    def get_derivative(self, model_prediction: NDArray[np.float64], ground_truth: NDArray[np.float64], N: int, X: NDArray[np.float64], desired_weight: int) -> float:\n",
    "        # note that N is just len(X)\n",
    "        return -2 * np.dot(ground_truth - model_prediction, X[:, desired_weight]) / N\n",
    "\n",
    "    def get_model_prediction(self, X: NDArray[np.float64], weights: NDArray[np.float64]) -> NDArray[np.float64]:\n",
    "        return np.squeeze(np.matmul(X, weights))\n",
    "\n",
    "    learning_rate = 0.01\n",
    "    def train_model(\n",
    "        self, \n",
    "        X: NDArray[np.float64], \n",
    "        Y: NDArray[np.float64], \n",
    "        num_iterations: int, \n",
    "        initial_weights: NDArray[np.float64]\n",
    "    ) -> NDArray[np.float64]:\n",
    "        for i in range(num_iterations):\n",
    "            predictions = self.get_model_prediction(X,initial_weights)\n",
    "            d1 = self.get_derivative(predictions, Y,len(X), X, 0)\n",
    "            d2 = self.get_derivative(predictions, Y,len(X), X, 1)\n",
    "            d3 = self.get_derivative(predictions, Y,len(X), X, 2)\n",
    "            \n",
    "            initial_weights[0] -= d1*self.learning_rate\n",
    "            initial_weights[1] -= d2*self.learning_rate\n",
    "            initial_weights[2] -= d3*self.learning_rate\n",
    "            \n",
    "        return np.round(initial_weights,5)\n",
    "\n",
    "            \n",
    "\n",
    "        \n",
    "if __name__ == \"__main__\":\n",
    "    X = np.array([[1, 2, 3], [4, 5, 6], [7, 8, 9], [10, 11, 12]], dtype=np.float64)\n",
    "    Y = np.array([6, 15, 24, 33], dtype=np.float64)\n",
    "    num_iterations = 1000\n",
    "    initial_weights = np.array([0, 0, 0], dtype=np.float64)\n",
    "    sol = Solution()\n",
    "    print(sol.train_model(X, Y, num_iterations, initial_weights))"
   ]
  }
 ],
 "metadata": {
  "language_info": {
   "name": "python"
  }
 },
 "nbformat": 4,
 "nbformat_minor": 2
}
