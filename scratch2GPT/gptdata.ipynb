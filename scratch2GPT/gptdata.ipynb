{
 "cells": [
  {
   "cell_type": "markdown",
   "metadata": {},
   "source": [
    "# Preparing the Dataset. "
   ]
  },
  {
   "cell_type": "code",
   "execution_count": 3,
   "metadata": {},
   "outputs": [
    {
     "name": "stdout",
     "output_type": "stream",
     "text": [
      "[['Hello', 'darkness', 'my'], ['darkness', 'my', 'old']]\n",
      "[['darkness', 'my', 'old'], ['my', 'old', 'friend']]\n"
     ]
    }
   ],
   "source": [
    "import torch\n",
    "from typing import List, Tuple\n",
    "\n",
    "def batch_loader(raw_dataset, context_length, batch_size) :\n",
    "    \n",
    "        # You must start by generating batch_size different random indices in the appropriate range\n",
    "        # using a single call to torch.randint()\n",
    "        torch.manual_seed(0)\n",
    "        words = raw_dataset.split()\n",
    "        indices = torch.randint(low=0, high=len(words)- context_length, size=(batch_size,))\n",
    "        # You must then use these indices to extract the corresponding slices from the raw dataset.\n",
    "        # You can do this using a list comprehension.\n",
    "        X = []\n",
    "        Y = []\n",
    "        for idx in indices: \n",
    "            X.append(words[idx:idx+context_length])\n",
    "            Y.append(words[idx+1 : idx+1+ context_length])\n",
    "        return X, Y\n",
    "\n",
    "# Test\n",
    "raw_dataset = \"Hello darkness my old friend\"\n",
    "context_length = 3\n",
    "batch_size = 2\n",
    "X, Y = batch_loader(raw_dataset, context_length, batch_size) # predicts one words and checks in Y if its correct or not and the generated word is again given back to the \n",
    "print(X)\n",
    "print(Y)\n"
   ]
  }
 ],
 "metadata": {
  "kernelspec": {
   "display_name": "Python 3",
   "language": "python",
   "name": "python3"
  },
  "language_info": {
   "codemirror_mode": {
    "name": "ipython",
    "version": 3
   },
   "file_extension": ".py",
   "mimetype": "text/x-python",
   "name": "python",
   "nbconvert_exporter": "python",
   "pygments_lexer": "ipython3",
   "version": "3.12.0"
  }
 },
 "nbformat": 4,
 "nbformat_minor": 2
}
