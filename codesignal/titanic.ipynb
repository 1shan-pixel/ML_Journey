{
 "cells": [
  {
   "cell_type": "code",
   "execution_count": 35,
   "metadata": {},
   "outputs": [
    {
     "name": "stdout",
     "output_type": "stream",
     "text": [
      "survived       0\n",
      "pclass         0\n",
      "sex            0\n",
      "age            0\n",
      "sibsp          0\n",
      "parch          0\n",
      "fare           0\n",
      "embarked       2\n",
      "class          0\n",
      "who            0\n",
      "adult_male     0\n",
      "embark_town    2\n",
      "alive          0\n",
      "alone          0\n",
      "dtype: int64\n"
     ]
    }
   ],
   "source": [
    "\n",
    "import seaborn as sns \n",
    "import numpy as np \n",
    "import pandas as pd \n",
    "import warnings\n",
    "\n",
    "warnings.filterwarnings(\"ignore\")\n",
    "\n",
    "titanic_data = sns.load_dataset(\"titanic\")\n",
    "titanic_data.describe()\n",
    "\n",
    "#find the columnns with missing values\n",
    "\n",
    "titanic_data.isnull().sum()\n",
    "\n",
    "# we need to work on age , deck and embark town since these have nan values \n",
    "\n",
    "titanic_data['age'].fillna(titanic_data['age'].median(),inplace=True)\n",
    "\n",
    "\n",
    "#titanic_data['deck'].info()\n",
    "\n",
    "#titanic_data['age'].describe()\n",
    "#titanic_data['age'].info()\n",
    "\n",
    "#\n",
    "titanic_data = titanic_data.drop(columns=['deck'])\n",
    "\n",
    "print(titanic_data.isnull().sum())\n",
    "\n",
    "\n",
    "\n",
    "\n",
    "\n",
    "\n",
    "#\n"
   ]
  },
  {
   "cell_type": "code",
   "execution_count": 36,
   "metadata": {},
   "outputs": [],
   "source": [
    "#now only left are embark town and embarked \n",
    "\n",
    "common_emabarktown = titanic_data['embark_town'].mode()[0] \n",
    "common_emabarked = titanic_data['embarked'].mode()[0]\n",
    "\n",
    "titanic_data['embark_town'].fillna(common_emabarktown,inplace=True)\n",
    "titanic_data['embarked'].fillna(common_emabarked,inplace=True)\n",
    "\n",
    "# now all of the nan values have been dealt with.\n",
    "\n",
    " "
   ]
  },
  {
   "cell_type": "markdown",
   "metadata": {},
   "source": [
    "# Outlier Detection and Handling"
   ]
  },
  {
   "cell_type": "code",
   "execution_count": 37,
   "metadata": {},
   "outputs": [
    {
     "name": "stdout",
     "output_type": "stream",
     "text": [
      "96     71.0\n",
      "116    70.5\n",
      "493    71.0\n",
      "630    80.0\n",
      "672    70.0\n",
      "745    70.0\n",
      "851    74.0\n",
      "Name: age, dtype: float64 27     263.0000\n",
      "88     263.0000\n",
      "118    247.5208\n",
      "258    512.3292\n",
      "299    247.5208\n",
      "311    262.3750\n",
      "341    263.0000\n",
      "377    211.5000\n",
      "380    227.5250\n",
      "438    263.0000\n",
      "527    221.7792\n",
      "557    227.5250\n",
      "679    512.3292\n",
      "689    211.3375\n",
      "700    227.5250\n",
      "716    227.5250\n",
      "730    211.3375\n",
      "737    512.3292\n",
      "742    262.3750\n",
      "779    211.3375\n",
      "Name: fare, dtype: float64\n"
     ]
    }
   ],
   "source": [
    "#finding outliers in age and fare \n",
    "\n",
    "import numpy as np\n",
    "\n",
    "age_mean = np.mean(titanic_data['age'])\n",
    "\n",
    "age_std  = np.std(titanic_data['age'])\n",
    "\n",
    "\n",
    "fare_mean  = np.mean(titanic_data['fare'])\n",
    "\n",
    "fare_std = np.std(titanic_data['fare'])\n",
    "\n",
    "zscore_age  = (titanic_data['age']- age_mean )/ age_std\n",
    "zscore_fare = (titanic_data['fare'] - fare_mean)  / fare_std\n",
    "\n",
    "outliers_age = titanic_data['age'][np.abs(zscore_age) > 3]\n",
    "outliers_fare = titanic_data['fare'][np.abs(zscore_fare) > 3]\n",
    "\n",
    "print(outliers_age, outliers_fare)\n"
   ]
  },
  {
   "cell_type": "markdown",
   "metadata": {},
   "source": [
    "# Data Transformation i.e. Data Normalization. \n"
   ]
  },
  {
   "cell_type": "code",
   "execution_count": 38,
   "metadata": {},
   "outputs": [
    {
     "name": "stdout",
     "output_type": "stream",
     "text": [
      "<class 'pandas.core.frame.DataFrame'>\n",
      "RangeIndex: 891 entries, 0 to 890\n",
      "Data columns (total 14 columns):\n",
      " #   Column       Non-Null Count  Dtype   \n",
      "---  ------       --------------  -----   \n",
      " 0   survived     891 non-null    int64   \n",
      " 1   pclass       891 non-null    int64   \n",
      " 2   sex          891 non-null    object  \n",
      " 3   age          891 non-null    float64 \n",
      " 4   sibsp        891 non-null    int64   \n",
      " 5   parch        891 non-null    int64   \n",
      " 6   fare         891 non-null    float64 \n",
      " 7   embarked     891 non-null    object  \n",
      " 8   class        891 non-null    category\n",
      " 9   who          891 non-null    object  \n",
      " 10  adult_male   891 non-null    bool    \n",
      " 11  embark_town  891 non-null    object  \n",
      " 12  alive        891 non-null    object  \n",
      " 13  alone        891 non-null    bool    \n",
      "dtypes: bool(2), category(1), float64(2), int64(4), object(5)\n",
      "memory usage: 79.4+ KB\n"
     ]
    }
   ],
   "source": [
    "from sklearn.preprocessing import MinMaxScaler\n",
    "import pandas as pd \n",
    "\n",
    "titanic_data[['age', 'fare']] = MinMaxScaler().fit_transform(titanic_data[['age', 'fare']])\n",
    "\n",
    "titanic_data.info()\n"
   ]
  },
  {
   "cell_type": "markdown",
   "metadata": {},
   "source": [
    "## Feature Engineering "
   ]
  },
  {
   "cell_type": "code",
   "execution_count": 39,
   "metadata": {},
   "outputs": [
    {
     "data": {
      "text/plain": [
       "Index(['survived', 'pclass', 'age', 'fare', 'adult_male', 'alone',\n",
       "       'sex_female', 'sex_male', 'embarked_C', 'embarked_Q', 'embarked_S',\n",
       "       'child', 'man', 'woman', 'alive_no', 'alive_yes', 'class_First',\n",
       "       'class_Second', 'class_Third', 'family_size'],\n",
       "      dtype='object')"
      ]
     },
     "execution_count": 39,
     "metadata": {},
     "output_type": "execute_result"
    }
   ],
   "source": [
    "# one hot encoding for sex and fare and other categorical datas\n",
    "\n",
    "import pandas as pd \n",
    "\n",
    "sex_encoding = pd.get_dummies(titanic_data['sex'] ,prefix = 'sex',dtype = int)\n",
    "embarked_encoding = pd.get_dummies(titanic_data['embarked'] ,prefix='embarked' , dtype = int)\n",
    "who_encoding = pd.get_dummies(titanic_data['who'] , dtype = int)\n",
    "alive_encoding = pd.get_dummies(titanic_data['alive'] ,prefix = 'alive' ,dtype = int)\n",
    "class_encoding = pd.get_dummies(titanic_data['class'], prefix = 'class', dtype = int)\n",
    "\n",
    "titanic_data = pd.concat([titanic_data, sex_encoding, embarked_encoding, who_encoding, alive_encoding, class_encoding], axis = 1)\n",
    "\n",
    "titanic_data['family_size'] = titanic_data['sibsp'] + titanic_data['parch'] \n",
    "\n",
    "titanic_data.drop(columns = ['sibsp','parch', 'sex', 'embarked', 'embark_town', 'who', 'alive', 'class'],inplace = True)\n",
    "\n",
    "titanic_data.columns\n",
    "\n"
   ]
  },
  {
   "cell_type": "markdown",
   "metadata": {},
   "source": [
    "# Train Test Split "
   ]
  },
  {
   "cell_type": "code",
   "execution_count": 1,
   "metadata": {},
   "outputs": [
    {
     "ename": "NameError",
     "evalue": "name 'titanic_data' is not defined",
     "output_type": "error",
     "traceback": [
      "\u001b[0;31m---------------------------------------------------------------------------\u001b[0m",
      "\u001b[0;31mNameError\u001b[0m                                 Traceback (most recent call last)",
      "Cell \u001b[0;32mIn[1], line 8\u001b[0m\n\u001b[1;32m      4\u001b[0m \u001b[38;5;28;01mfrom\u001b[39;00m \u001b[38;5;21;01mmath\u001b[39;00m \u001b[38;5;28;01mimport\u001b[39;00m sqrt \n\u001b[1;32m      7\u001b[0m \u001b[38;5;66;03m#random_state ensures that the data is split in the same way , the next way the code is run, good for comparisons. \u001b[39;00m\n\u001b[0;32m----> 8\u001b[0m train_data , test_data \u001b[38;5;241m=\u001b[39m train_test_split(\u001b[43mtitanic_data\u001b[49m, test_size\u001b[38;5;241m=\u001b[39m \u001b[38;5;241m0.2\u001b[39m , random_state\u001b[38;5;241m=\u001b[39m\u001b[38;5;241m42\u001b[39m)\n\u001b[1;32m     10\u001b[0m logreg \u001b[38;5;241m=\u001b[39m LogisticRegression()\n\u001b[1;32m     12\u001b[0m x_train \u001b[38;5;241m=\u001b[39m train_data\u001b[38;5;241m.\u001b[39mdrop(\u001b[38;5;124m\"\u001b[39m\u001b[38;5;124msurvived\u001b[39m\u001b[38;5;124m\"\u001b[39m, axis \u001b[38;5;241m=\u001b[39m \u001b[38;5;241m1\u001b[39m)\n",
      "\u001b[0;31mNameError\u001b[0m: name 'titanic_data' is not defined"
     ]
    }
   ],
   "source": [
    "from sklearn.model_selection import train_test_split\n",
    "from sklearn.linear_model import LogisticRegression\n",
    "from sklearn.metrics import classification_report, confusion_matrix , accuracy_score , mean_absolute_error , mean_squared_error , precision_score , recall_score\n",
    "from math import sqrt \n",
    "\n",
    "\n",
    "#random_state ensures that the data is split in the same way , the next way the code is run, good for comparisons. \n",
    "train_data , test_data = train_test_split(titanic_data, test_size= 0.2 , random_state=42)\n",
    "\n",
    "logreg = LogisticRegression()\n",
    "\n",
    "x_train = train_data.drop(\"survived\", axis = 1)\n",
    "y_train = train_data['survived']\n",
    "\n",
    "logreg.fit(x_train, y_train)\n",
    "\n",
    "x_test = test_data.drop(\"survived\", axis = 1)\n",
    "y_test = test_data['survived']\n",
    "\n",
    "predictions  = logreg.predict(x_test)\n",
    "\n",
    "print(classification_report(y_test, predictions))\n",
    "print(accuracy_score(y_test, predictions))\n",
    "print(confusion_matrix(y_test, predictions))"
   ]
  },
  {
   "cell_type": "code",
   "execution_count": 20,
   "metadata": {},
   "outputs": [
    {
     "data": {
      "text/plain": [
       "Index(['survived', 'pclass', 'age', 'sibsp', 'parch', 'fare', 'class', 'who',\n",
       "       'adult_male', 'embark_town', 'alive', 'alone', 'age'],\n",
       "      dtype='object')"
      ]
     },
     "execution_count": 20,
     "metadata": {},
     "output_type": "execute_result"
    }
   ],
   "source": [
    "titanic_data.columns"
   ]
  }
 ],
 "metadata": {
  "kernelspec": {
   "display_name": "Python 3",
   "language": "python",
   "name": "python3"
  },
  "language_info": {
   "codemirror_mode": {
    "name": "ipython",
    "version": 3
   },
   "file_extension": ".py",
   "mimetype": "text/x-python",
   "name": "python",
   "nbconvert_exporter": "python",
   "pygments_lexer": "ipython3",
   "version": "3.10.12"
  }
 },
 "nbformat": 4,
 "nbformat_minor": 2
}
